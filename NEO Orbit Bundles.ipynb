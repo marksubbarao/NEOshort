{
 "cells": [
  {
   "cell_type": "markdown",
   "metadata": {},
   "source": [
    "#NEO short data processing routines\n",
    "\n",
    "This notebook contains various code blocks performing data processing tasks developed for the NEO dome short produced for the Adler Planetarium. Spring 2015\n",
    "\n",
    "#Orbital uncertainty bundles for 2014 WR365\n",
    "\n",
    "The Orbital parameters and covariance matrix were obtained from JPL Horizons: http://ssd.jpl.nasa.gov/sbdb.cgi?sstr=2014%20WR365;old=0;orb=0;cov=1;log=0;cad=0#elem"
   ]
  },
  {
   "cell_type": "code",
   "execution_count": 19,
   "metadata": {
    "collapsed": false
   },
   "outputs": [],
   "source": [
    "#Variable order : e,q,node,peri,i\n",
    "mean=np.array([.57279095148,1.175127196458,2.2195714987,56.968278363537,3.13449695])\n",
    "cov=np.array([[1.137287462358005E-5,3.300800163773148E-6,-2.269402074737977E-5,-2.968256075575697E-5,4.56616711758885E-5],\\\n",
    "    [3.300800163773148E-6,9.583940510872261E-7,-7.167778951468698E-6,-7.647531668944469E-6,1.323753645963288E-5],\\\n",
    "    [-2.269402074737977E-5,-7.167778951468698E-6,.000938145104567499,-.001422809143814682,-6.782284163996406E-5],\\\n",
    "    [-2.968256075575697E-5,-7.647531668944469E-6,-.001422809143814682,.002540308468290081,-.0001578292284344169],\\\n",
    "    [4.56616711758885E-5,1.323753645963288E-5,-6.782284163996406E-5,-.0001578292284344169,.0001839390116515019]])"
   ]
  },
  {
   "cell_type": "code",
   "execution_count": 4,
   "metadata": {
    "collapsed": true
   },
   "outputs": [],
   "source": [
    "import numpy as np"
   ]
  },
  {
   "cell_type": "code",
   "execution_count": 27,
   "metadata": {
    "collapsed": false
   },
   "outputs": [],
   "source": [
    "nBundle = 200 # the number of orbits in the orbit bundle\n",
    "orbitBundle = np.random.multivariate_normal(mean,cov,nBundle)"
   ]
  },
  {
   "cell_type": "markdown",
   "metadata": {},
   "source": [
    "####Write Uniview style raw file"
   ]
  },
  {
   "cell_type": "code",
   "execution_count": 43,
   "metadata": {
    "collapsed": false
   },
   "outputs": [],
   "source": [
    "writefile=open('2014WR365.raw',\"w\")\n",
    "for i in range(nBundle):\n",
    "    outline = \"%f %f %f %f %f 0.0 0.0 1.0 0.0\\n\" % (orbitBundle[i,1],orbitBundle[i,0],orbitBundle[i,4],orbitBundle[i,2],orbitBundle[i,3])\n",
    "    writefile.write(outline)"
   ]
  },
  {
   "cell_type": "markdown",
   "metadata": {},
   "source": [
    "##Output Bundle with reduced errors"
   ]
  },
  {
   "cell_type": "code",
   "execution_count": 44,
   "metadata": {
    "collapsed": false
   },
   "outputs": [],
   "source": [
    "factor=0.1; #how much better the errors are\n",
    "secondBundle=np.random.multivariate_normal(np.random.multivariate_normal(mean,cov),factor*factor*cov,nBundle)"
   ]
  },
  {
   "cell_type": "code",
   "execution_count": 45,
   "metadata": {
    "collapsed": true
   },
   "outputs": [],
   "source": [
    "for i in range(nBundle):\n",
    "    outline = \"%f %f %f %f %f 0.0 0.0 2.0 0.0\\n\" % (secondBundle[i,1],secondBundle[i,0],secondBundle[i,4],secondBundle[i,2],secondBundle[i,3])\n",
    "    writefile.write(outline)   "
   ]
  },
  {
   "cell_type": "code",
   "execution_count": 46,
   "metadata": {
    "collapsed": true
   },
   "outputs": [],
   "source": [
    "writefile.close()"
   ]
  },
  {
   "cell_type": "markdown",
   "metadata": {},
   "source": [
    "#Reading and processing Mark Hammergren's data files"
   ]
  },
  {
   "cell_type": "code",
   "execution_count": 66,
   "metadata": {
    "collapsed": false
   },
   "outputs": [],
   "source": [
    "writefile=open('2014WR365.raw',\"w\")\n",
    "readfile=open('data/mpcorb_2014WR365_noAPO.dat',\"r\")\n",
    "for line in readfile:\n",
    "    cols=line.split()\n",
    "    if (len(cols)==25):\n",
    "        outline = \"%s %s %s %s %s 0.0 0.0 1.0 0.0\\n\" % (cols[10],cols[8],cols[7],cols[6],cols[5])\n",
    "        writefile.write(outline) \n",
    "readfile.close()\n",
    "readfile=open('data/mpcorb_2014WR365_withAPO.dat',\"r\")\n",
    "for line in readfile:\n",
    "    cols=line.split()\n",
    "    if (len(cols)==25):\n",
    "        outline = \"%s %s %s %s %s 0.0 0.0 2.0 0.0\\n\" % (cols[10],cols[8],cols[7],cols[6],cols[5])\n",
    "        writefile.write(outline)  \n",
    "readfile.close()\n",
    "writefile.close()"
   ]
  },
  {
   "cell_type": "markdown",
   "metadata": {},
   "source": [
    "#Park Forest Meteorite Fall\n",
    "\n",
    "###Read in data from .csv file and make colormap"
   ]
  },
  {
   "cell_type": "code",
   "execution_count": 80,
   "metadata": {
    "collapsed": true
   },
   "outputs": [],
   "source": [
    "#Set up astropy and astroquery \n",
    "from astropy.table import Table,Column\n",
    "Strikes = Table.read('data/Park Forest Meteorite Fall.csv', format='ascii.csv')"
   ]
  },
  {
   "cell_type": "code",
   "execution_count": 81,
   "metadata": {
    "collapsed": false
   },
   "outputs": [
    {
     "data": {
      "text/html": [
       "<table id=\"table169242352\"><thead><tr><th>Latitude</th><th>Longitude</th><th>Weight (g)</th><th>elevation</th><th>colormap</th></tr></thead><tr><td>41.504764</td><td>-87.682127</td><td>2500</td><td>217</td><td>cyan</td></tr><tr><td>41.492279</td><td>-87.680312</td><td>50</td><td>217</td><td>magenta</td></tr><tr><td>41.4827299</td><td>-87.670138</td><td>1000</td><td>217</td><td>cyan</td></tr><tr><td>41.483404</td><td>-87.686928</td><td>344</td><td>217</td><td>magenta</td></tr><tr><td>41.495513</td><td>-87.686539</td><td>900</td><td>217</td><td>cyan</td></tr><tr><td>41.464059</td><td>-87.699057</td><td>160</td><td>217</td><td>magenta</td></tr><tr><td>41.5086561</td><td>-87.6829963</td><td>3400</td><td>217</td><td>cyan</td></tr><tr><td>41.498318</td><td>-87.694615</td><td>957</td><td>217</td><td>cyan</td></tr><tr><td>41.5007469</td><td>-87.681909</td><td>892</td><td>217</td><td>cyan</td></tr><tr><td>41.472989</td><td>-87.680222</td><td>150</td><td>217</td><td>magenta</td></tr><tr><td>41.47975</td><td>-87.680852</td><td>50</td><td>217</td><td>magenta</td></tr><tr><td>...</td><td>...</td><td>...</td><td>...</td><td>...</td></tr><tr><td>41.4606033</td><td>-87.6373587</td><td>39</td><td>217</td><td>magenta</td></tr><tr><td>41.4892417</td><td>-87.6792076</td><td>1230</td><td>217</td><td>cyan</td></tr><tr><td>41.4728823</td><td>-87.6741107</td><td>110</td><td>217</td><td>magenta</td></tr><tr><td>41.47188</td><td>-87.6769489</td><td>220</td><td>217</td><td>magenta</td></tr><tr><td>41.4802211</td><td>-87.6741368</td><td>333</td><td>217</td><td>magenta</td></tr><tr><td>41.4697895</td><td>-87.6742358</td><td>88</td><td>217</td><td>magenta</td></tr><tr><td>41.4697875</td><td>-87.6378176</td><td>10</td><td>217</td><td>magenta</td></tr><tr><td>41.4697875</td><td>-87.6378176</td><td>20</td><td>217</td><td>magenta</td></tr><tr><td>41.4680825</td><td>-87.6469169</td><td>125</td><td>217</td><td>magenta</td></tr><tr><td>41.4463365</td><td>-87.6313963</td><td>48</td><td>217</td><td>magenta</td></tr><tr><td>41.50657</td><td>-87.686637</td><td>5259</td><td>217</td><td>yellow</td></tr></table>"
      ],
      "text/plain": [
       "<Table rows=52 names=('Latitude','Longitude','Weight (g)','elevation','colormap')>\n",
       "array([(41.504764, -87.682127, 2500, 217, 'cyan'),\n",
       "       (41.492279, -87.680312, 50, 217, 'magenta'),\n",
       "       (41.4827299, -87.670138, 1000, 217, 'cyan'),\n",
       "       (41.483404, -87.686928, 344, 217, 'magenta'),\n",
       "       (41.495513, -87.686539, 900, 217, 'cyan'),\n",
       "       (41.464059, -87.699057, 160, 217, 'magenta'),\n",
       "       (41.5086561, -87.6829963, 3400, 217, 'cyan'),\n",
       "       (41.498318, -87.694615, 957, 217, 'cyan'),\n",
       "       (41.5007469, -87.681909, 892, 217, 'cyan'),\n",
       "       (41.472989, -87.680222, 150, 217, 'magenta'),\n",
       "       (41.47975, -87.680852, 50, 217, 'magenta'),\n",
       "       (41.500269, -87.681987, 150, 217, 'magenta'),\n",
       "       (41.4827299, -87.670138, 530, 217, 'cyan'),\n",
       "       (41.481987, -87.680406, 638, 217, 'cyan'),\n",
       "       (41.4847195, -87.6742044, 183, 217, 'magenta'),\n",
       "       (41.4740535, -87.6742498, 160, 217, 'magenta'),\n",
       "       (41.4697895, -87.6673666, 600, 217, 'cyan'),\n",
       "       (41.5007937, -87.6850843, 1153, 217, 'cyan'),\n",
       "       (41.4775319, -87.6828445, 110, 217, 'magenta'),\n",
       "       (41.4775319, -87.6828445, 293, 217, 'magenta'),\n",
       "       (41.4775319, -87.6828445, 241, 217, 'magenta'),\n",
       "       (41.46935, -87.652814, 128, 217, 'magenta'),\n",
       "       (41.4641994, -87.6500139, 150, 217, 'magenta'),\n",
       "       (41.478879, -87.693651, 385, 217, 'magenta'),\n",
       "       (41.4827299, -87.670138, 110, 217, 'magenta'),\n",
       "       (41.4802449, -87.6781442, 280, 217, 'magenta'),\n",
       "       (41.4775319, -87.6828445, 544, 217, 'cyan'),\n",
       "       (41.466741, -87.693207, 100, 217, 'magenta'),\n",
       "       (41.488866, -87.6994085, 800, 217, 'cyan'),\n",
       "       (41.4928982, -87.67845, 200, 217, 'magenta'),\n",
       "       (41.4775319, -87.6828445, 600, 217, 'cyan'),\n",
       "       (41.4775319, -87.6828445, 900, 217, 'cyan'),\n",
       "       (41.5060851, -87.699593, 26, 217, 'magenta'),\n",
       "       (41.4873629, -87.6816704, 50, 217, 'magenta'),\n",
       "       (41.4976308, -87.6831624, 380, 217, 'magenta'),\n",
       "       (41.4800085, -87.6726779, 94, 217, 'magenta'),\n",
       "       (41.4775319, -87.6828445, 212, 217, 'magenta'),\n",
       "       (41.490172, -87.6774293, 50, 217, 'magenta'),\n",
       "       (41.4802539, -87.6781292, 81, 217, 'magenta'),\n",
       "       (41.489491, -87.693063, 1012, 217, 'cyan'),\n",
       "       (41.4868056, -87.6742134, 341, 217, 'magenta'),\n",
       "       (41.4606033, -87.6373587, 39, 217, 'magenta'),\n",
       "       (41.4892417, -87.6792076, 1230, 217, 'cyan'),\n",
       "       (41.4728823, -87.6741107, 110, 217, 'magenta'),\n",
       "       (41.47188, -87.6769489, 220, 217, 'magenta'),\n",
       "       (41.4802211, -87.6741368, 333, 217, 'magenta'),\n",
       "       (41.4697895, -87.6742358, 88, 217, 'magenta'),\n",
       "       (41.4697875, -87.6378176, 10, 217, 'magenta'),\n",
       "       (41.4697875, -87.6378176, 20, 217, 'magenta'),\n",
       "       (41.4680825, -87.6469169, 125, 217, 'magenta'),\n",
       "       (41.4463365, -87.6313963, 48, 217, 'magenta'),\n",
       "       (41.50657, -87.686637, 5259, 217, 'yellow')], \n",
       "      dtype=[('Latitude', '<f8'), ('Longitude', '<f8'), ('Weight (g)', '<i4'), ('elevation', '<i4'), ('colormap', 'S7')])"
      ]
     },
     "execution_count": 81,
     "metadata": {},
     "output_type": "execute_result"
    }
   ],
   "source": [
    "Strikes['elevation'] = 217\n",
    "Strikes['colormap'] = 'magenta'\n",
    "for i in range(len(Stars['Weight (g)'])):\n",
    "  pc=Stars['Weight (g)'][i]\n",
    "  if pc>454:\n",
    "    Strikes['colormap'][i]='cyan'\n",
    "  if pc>4540:\n",
    "    Strikes['colormap'][i]='yellow'\n",
    "Strikes "
   ]
  },
  {
   "cell_type": "markdown",
   "metadata": {},
   "source": [
    "###Send data table to WWT"
   ]
  },
  {
   "cell_type": "code",
   "execution_count": 84,
   "metadata": {
    "collapsed": false
   },
   "outputs": [
    {
     "name": "stdout",
     "output_type": "stream",
     "text": [
      "Connecting to WWT on host 127.0.0.1.\n"
     ]
    }
   ],
   "source": [
    "#Connect to WWT and set up Layer Group\n",
    "from pywwt.mods import *\n",
    "wwt = WWTClient(host=\"127.0.0.1\") #Can pass a IP address here if WWT is running on a remote machine\n",
    "#Set up WWT layer\n",
    "SgrStream_layer = wwt.new_layer(\"Earth\",\"Park Forest Strewnfield\", Strikes.colnames)\n",
    "#Set visualization parameters in WWT\n",
    "props_dict = {'AltColumn': u'3',\\\n",
    "              'AltType': u'Altitude',\\\n",
    "              'AltUnit': u'Meters',\\\n",
    "              \"CoordinatesType\":\"Spherical\",\\\n",
    "              \"MarkerScale\":\"Screen\",\\\n",
    "              \"PointScaleType\":\"Constant\",\\\n",
    "              \"ScaleFactor\":\"8\",\\\n",
    "              \"ShowFarSide\":\"True\",\\\n",
    "              \"RaUnits\":\"Degrees\",\\\n",
    "              \"PlotType\":\"Circle\",\\\n",
    "              \"ColorMapColumn\":\"4\",\\\n",
    "              'ScaleFactor': u'0.0078125',\\\n",
    "              'SizeColumn': u'2',\\\n",
    "              \"TimeSeries\":\"False\"}\n",
    "SgrStream_layer.set_properties(props_dict)\n",
    "#Send data to WWT client\n",
    "SgrStream_layer.update(data=Strikes, purge_all=True, no_purge=False, show=True)"
   ]
  },
  {
   "cell_type": "code",
   "execution_count": 83,
   "metadata": {
    "collapsed": false
   },
   "outputs": [
    {
     "data": {
      "text/plain": [
       "{'AltColumn': u'3',\n",
       " 'AltType': u'Altitude',\n",
       " 'AltUnit': u'Meters',\n",
       " 'Astronomical': u'False',\n",
       " 'AutoUpdate': u'False',\n",
       " 'BeginRange': u'12/31/9999 11:59:59 PM',\n",
       " 'CartesianCustomScale': u'1',\n",
       " 'CartesianScale': u'Meters',\n",
       " 'Class': u'SpreadSheetLayer',\n",
       " 'ColorMapColumn': u'4',\n",
       " 'ColorValue': u'ARGBColor:255:255:255:255',\n",
       " 'CoordinatesType': u'Spherical',\n",
       " 'DataSourceUrl': u'',\n",
       " 'Decay': u'16',\n",
       " 'DynamicData': u'False',\n",
       " 'Enabled': u'True',\n",
       " 'EndDateColumn': u'-1',\n",
       " 'EndRange': u'1/1/0001 12:00:00 AM',\n",
       " 'EndTime': u'12/31/9999 11:59:59 PM',\n",
       " 'FadeSpan': u'00:00:00',\n",
       " 'FadeType': u'None',\n",
       " 'GeometryColumn': u'-1',\n",
       " 'HyperlinkColumn': u'-1',\n",
       " 'HyperlinkFormat': u'',\n",
       " 'LatColumn': u'0',\n",
       " 'LngColumn': u'1',\n",
       " 'MarkerColumn': u'-1',\n",
       " 'MarkerIndex': u'0',\n",
       " 'MarkerMix': u'Same_For_All',\n",
       " 'MarkerScale': u'World',\n",
       " 'Name': u'Park Forest Strewnfield',\n",
       " 'NameColumn': u'0',\n",
       " 'Opacity': u'1',\n",
       " 'PlotType': u'Circle',\n",
       " 'PointScaleType': u'Log',\n",
       " 'RaUnits': u'Degrees',\n",
       " 'ScaleFactor': u'0.0078125',\n",
       " 'ShowFarSide': u'True',\n",
       " 'SizeColumn': u'2',\n",
       " 'StartDateColumn': u'-1',\n",
       " 'StartTime': u'1/1/0001 12:00:00 AM',\n",
       " 'TimeSeries': u'False',\n",
       " 'Version': u'202',\n",
       " 'XAxisColumn': u'-1',\n",
       " 'XAxisReverse': u'False',\n",
       " 'YAxisColumn': u'-1',\n",
       " 'YAxisReverse': u'False',\n",
       " 'ZAxisColumn': u'-1',\n",
       " 'ZAxisReverse': u'False'}"
      ]
     },
     "execution_count": 83,
     "metadata": {},
     "output_type": "execute_result"
    }
   ],
   "source": [
    "SgrStream_layer.get_properties()"
   ]
  },
  {
   "cell_type": "code",
   "execution_count": null,
   "metadata": {
    "collapsed": true
   },
   "outputs": [],
   "source": []
  }
 ],
 "metadata": {
  "kernelspec": {
   "display_name": "Python 2",
   "language": "python",
   "name": "python2"
  },
  "language_info": {
   "codemirror_mode": {
    "name": "ipython",
    "version": 2
   },
   "file_extension": ".py",
   "mimetype": "text/x-python",
   "name": "python",
   "nbconvert_exporter": "python",
   "pygments_lexer": "ipython2",
   "version": "2.7.6"
  }
 },
 "nbformat": 4,
 "nbformat_minor": 0
}
