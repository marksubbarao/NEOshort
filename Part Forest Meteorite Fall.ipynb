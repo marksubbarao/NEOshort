{
 "metadata": {
  "name": "",
  "signature": "sha256:ce1c5bfce7c957db4339b3b2d413a5902f50dd16fb3ac8e5361bace452842f34"
 },
 "nbformat": 3,
 "nbformat_minor": 0,
 "worksheets": [
  {
   "cells": [
    {
     "cell_type": "heading",
     "level": 1,
     "metadata": {},
     "source": [
      "Visualization of the locations of the Park Forest Meteorite Fall"
     ]
    },
    {
     "cell_type": "markdown",
     "metadata": {},
     "source": [
      "Data provided by Steven Simon, Cynthia Tarr translated addressed ito lat/lon. Objects without specific position (~15) were removed. Those without mass are assumed to have a mass of 50g"
     ]
    },
    {
     "cell_type": "code",
     "collapsed": false,
     "input": [
      "#Set up astropy and astroquery \n",
      "from astropy.table import Table,Column\n",
      "from astropy.coordinates import SkyCoord, Distance, CartesianRepresentation\n",
      "from astropy import units as u"
     ],
     "language": "python",
     "metadata": {},
     "outputs": [],
     "prompt_number": 1
    },
    {
     "cell_type": "heading",
     "level": 2,
     "metadata": {},
     "source": [
      "Import Data"
     ]
    },
    {
     "cell_type": "code",
     "collapsed": false,
     "input": [
      "#Import data set, keep only the columns we need. Convert distances from kpc to pc for WWT\n",
      "Meteorites = Table.read('Park Forest Meteorite Fall.csv', format='ascii.csv')\n",
      "Meteorites['Latitude'].unit = u.degree\n",
      "Meteorites['Longitude'].unit = u.degree\n",
      "Meteorites['Weight (g)'].unit = u.g\n",
      "\n",
      "Meteorites"
     ],
     "language": "python",
     "metadata": {},
     "outputs": [
      {
       "html": [
        "<table id=\"table163819760\"><thead><tr><th>Latitude</th><th>Longitude</th><th>Weight (g)</th></tr></thead><thead><tr><th>deg</th><th>deg</th><th>g</th></tr></thead><tr><td>41.504764</td><td>-87.682127</td><td>2500</td></tr><tr><td>41.492279</td><td>-87.680312</td><td>50</td></tr><tr><td>41.4827299</td><td>-87.670138</td><td>1000</td></tr><tr><td>41.483404</td><td>-87.686928</td><td>344</td></tr><tr><td>41.495513</td><td>-87.686539</td><td>900</td></tr><tr><td>41.464059</td><td>-87.699057</td><td>160</td></tr><tr><td>41.5086561</td><td>-87.6829963</td><td>3400</td></tr><tr><td>41.498318</td><td>-87.694615</td><td>957</td></tr><tr><td>41.5007469</td><td>-87.681909</td><td>892</td></tr><tr><td>41.472989</td><td>-87.680222</td><td>150</td></tr><tr><td>41.47975</td><td>-87.680852</td><td>50</td></tr><tr><td>...</td><td>...</td><td>...</td></tr><tr><td>41.4892417</td><td>-87.6792076</td><td>1230</td></tr><tr><td>41.4728823</td><td>-87.6741107</td><td>110</td></tr><tr><td>41.47188</td><td>-87.6769489</td><td>220</td></tr><tr><td>41.4802211</td><td>-87.6741368</td><td>333</td></tr><tr><td>41.4697895</td><td>-87.6742358</td><td>88</td></tr><tr><td>41.4697875</td><td>-87.6378176</td><td>10</td></tr><tr><td>41.4697875</td><td>-87.6378176</td><td>20</td></tr><tr><td>41.4680825</td><td>-87.6469169</td><td>125</td></tr><tr><td>41.4463365</td><td>-87.6313963</td><td>48</td></tr><tr><td>41.50657</td><td>-87.686637</td><td>5259</td></tr></table>"
       ],
       "metadata": {},
       "output_type": "pyout",
       "prompt_number": 7,
       "text": [
        "<Table rows=52 names=('Latitude','Longitude','Weight (g)') units=('deg','deg','g')>\n",
        "array([(41.504764, -87.682127, 2500), (41.492279, -87.680312, 50),\n",
        "       (41.4827299, -87.670138, 1000), (41.483404, -87.686928, 344),\n",
        "       (41.495513, -87.686539, 900), (41.464059, -87.699057, 160),\n",
        "       (41.5086561, -87.6829963, 3400), (41.498318, -87.694615, 957),\n",
        "       (41.5007469, -87.681909, 892), (41.472989, -87.680222, 150),\n",
        "       (41.47975, -87.680852, 50), (41.500269, -87.681987, 150),\n",
        "       (41.4827299, -87.670138, 530), (41.481987, -87.680406, 638),\n",
        "       (41.4847195, -87.6742044, 183), (41.4740535, -87.6742498, 160),\n",
        "       (41.4697895, -87.6673666, 600), (41.5007937, -87.6850843, 1153),\n",
        "       (41.4775319, -87.6828445, 110), (41.4775319, -87.6828445, 293),\n",
        "       (41.4775319, -87.6828445, 241), (41.46935, -87.652814, 128),\n",
        "       (41.4641994, -87.6500139, 150), (41.478879, -87.693651, 385),\n",
        "       (41.4827299, -87.670138, 110), (41.4802449, -87.6781442, 280),\n",
        "       (41.4775319, -87.6828445, 544), (41.466741, -87.693207, 100),\n",
        "       (41.488866, -87.6994085, 800), (41.4928982, -87.67845, 200),\n",
        "       (41.4775319, -87.6828445, 600), (41.4775319, -87.6828445, 900),\n",
        "       (41.5060851, -87.699593, 26), (41.4873629, -87.6816704, 50),\n",
        "       (41.4976308, -87.6831624, 380), (41.4800085, -87.6726779, 94),\n",
        "       (41.4775319, -87.6828445, 212), (41.490172, -87.6774293, 50),\n",
        "       (41.4802539, -87.6781292, 81), (41.489491, -87.693063, 1012),\n",
        "       (41.4868056, -87.6742134, 341), (41.4606033, -87.6373587, 39),\n",
        "       (41.4892417, -87.6792076, 1230), (41.4728823, -87.6741107, 110),\n",
        "       (41.47188, -87.6769489, 220), (41.4802211, -87.6741368, 333),\n",
        "       (41.4697895, -87.6742358, 88), (41.4697875, -87.6378176, 10),\n",
        "       (41.4697875, -87.6378176, 20), (41.4680825, -87.6469169, 125),\n",
        "       (41.4463365, -87.6313963, 48), (41.50657, -87.686637, 5259)], \n",
        "      dtype=[('Latitude', '<f8'), ('Longitude', '<f8'), ('Weight (g)', '<i4')])"
       ]
      }
     ],
     "prompt_number": 7
    },
    {
     "cell_type": "heading",
     "level": 4,
     "metadata": {},
     "source": [
      "Add colormap column based on Pcol as described in LM10. Black changed to grey for visibility"
     ]
    },
    {
     "cell_type": "code",
     "collapsed": false,
     "input": [
      "Stars.remove_columns([\"colormap\"])"
     ],
     "language": "python",
     "metadata": {},
     "outputs": [],
     "prompt_number": 46
    },
    {
     "cell_type": "code",
     "collapsed": false,
     "input": [
      "Stars['colormap'] = 'magenta'\n",
      "for i in range(len(Stars['Pcol'])):\n",
      "  pc=Stars['Pcol'][i]\n",
      "  if pc==-1:\n",
      "    Stars['colormap'][i]='grey'\n",
      "  elif pc==0 or pc==1:\n",
      "    Stars['colormap'][i]='orange'\n",
      "  elif pc==2 or pc==3:\n",
      "    Stars['colormap'][i]='magenta'\n",
      "  elif pc==4 or pc==5:\n",
      "    Stars['colormap'][i]='cyan'\n",
      "  elif pc==6 or pc==7:\n",
      "    Stars['colormap'][i]='green'\n",
      "Stars"
     ],
     "language": "python",
     "metadata": {},
     "outputs": [
      {
       "html": [
        "<table id=\"table181451072\"><thead><tr><th>ra</th><th>dec</th><th>Pcol</th><th>distance</th><th>colormap</th></tr></thead><thead><tr><th>deg</th><th>deg</th><th></th><th>pc</th><th></th></tr></thead><tr><td>295.968</td><td>-42.1607</td><td>8</td><td>65975.1</td><td>magenta</td></tr><tr><td>284.571</td><td>-31.0457</td><td>-1</td><td>28705.5</td><td>grey</td></tr><tr><td>300.004</td><td>-31.3875</td><td>0</td><td>24114.8</td><td>orange</td></tr><tr><td>279.433</td><td>-35.746</td><td>8</td><td>62416.9</td><td>magenta</td></tr><tr><td>267.578</td><td>-38.2792</td><td>7</td><td>49910.6</td><td>green</td></tr><tr><td>176.893</td><td>1.10254</td><td>4</td><td>47122.8</td><td>cyan</td></tr><tr><td>104.444</td><td>33.1628</td><td>4</td><td>53437.1</td><td>cyan</td></tr><tr><td>71.5963</td><td>-0.34414</td><td>5</td><td>25899.1</td><td>cyan</td></tr><tr><td>201.532</td><td>39.4735</td><td>8</td><td>44656.1</td><td>magenta</td></tr><tr><td>341.573</td><td>-24.3602</td><td>0</td><td>24391.5</td><td>orange</td></tr><tr><td>0.875036</td><td>-11.8669</td><td>1</td><td>27571.2</td><td>orange</td></tr><tr><td>...</td><td>...</td><td>...</td><td>...</td><td>...</td></tr><tr><td>341.335</td><td>-40.5922</td><td>5</td><td>84215.2</td><td>cyan</td></tr><tr><td>83.1511</td><td>11.1116</td><td>6</td><td>21616.4</td><td>green</td></tr><tr><td>280.495</td><td>-29.8858</td><td>-1</td><td>29235.6</td><td>grey</td></tr><tr><td>72.5915</td><td>8.54601</td><td>7</td><td>13437.0</td><td>green</td></tr><tr><td>354.151</td><td>-7.18791</td><td>7</td><td>27570.5</td><td>green</td></tr><tr><td>74.4983</td><td>21.7006</td><td>3</td><td>51303.9</td><td>magenta</td></tr><tr><td>186.857</td><td>25.8397</td><td>6</td><td>21843.2</td><td>green</td></tr><tr><td>45.3987</td><td>12.4169</td><td>1</td><td>28512.1</td><td>orange</td></tr><tr><td>285.87</td><td>-25.5548</td><td>8</td><td>49008.2</td><td>magenta</td></tr><tr><td>218.982</td><td>21.9778</td><td>8</td><td>49079.0</td><td>magenta</td></tr></table>"
       ],
       "metadata": {},
       "output_type": "pyout",
       "prompt_number": 45,
       "text": [
        "<Table rows=100000 names=('ra','dec','Pcol','distance','colormap') units=('deg','deg',None,'pc',None)>\n",
        "array([(295.968, -42.1607, 8, 65975.09999999999, 'magenta'),\n",
        "       (284.571, -31.0457, -1, 28705.5, 'grey'),\n",
        "       (300.004, -31.3875, 0, 24114.8, 'orange'), ...,\n",
        "       (45.3987, 12.4169, 1, 28512.1, 'orange'),\n",
        "       (285.87, -25.5548, 8, 49008.200000000004, 'magenta'),\n",
        "       (218.982, 21.9778, 8, 49079.0, 'magenta')], \n",
        "      dtype=[('ra', '<f8'), ('dec', '<f8'), ('Pcol', '<i4'), ('distance', '<f8'), ('colormap', 'S7')])"
       ]
      }
     ],
     "prompt_number": 45
    },
    {
     "cell_type": "heading",
     "level": 3,
     "metadata": {},
     "source": [
      "Visualize Star Streams in WWT"
     ]
    },
    {
     "cell_type": "code",
     "collapsed": false,
     "input": [
      "#Connect to WWT and set up Layer Group\n",
      "from pywwt.mods import *\n",
      "wwt = WWTClient() #Can pass a IP address here if WWT is running on a remote machine\n",
      "#wwt.new_layer_group(\"Sky\",\"Galactic Datasets\")"
     ],
     "language": "python",
     "metadata": {},
     "outputs": [],
     "prompt_number": 12
    },
    {
     "cell_type": "code",
     "collapsed": false,
     "input": [
      "#Set up WWT layer\n",
      "PFM_layer = wwt.new_layer(\"Earth\", \"ParkForestMeteorites\", Meteorites.colnames)\n",
      "#Set visualization parameters in WWT\n",
      "props_dict = {\"CoordinatesType\":\"Spherical\",\\\n",
      "              \"MarkerScale\":\"Screen\",\\\n",
      "              \"PointScaleType\":\"Constant\",\\\n",
      "              \"ScaleFactor\":\"8\",\\\n",
      "              \"ShowFarSide\":\"True\",\\\n",
      "              \"RaUnits\":\"Degrees\",\\\n",
      "              \"PlotType\":\"Gaussian\",\\\n",
      "              \"ColorMapColumn\":\"4\",\\\n",
      "              \"TimeSeries\":\"False\"}\n",
      "PFM_layer.set_properties(props_dict)\n",
      "#Send data to WWT client\n",
      "PFM_layer.update(data=Meteorites, purge_all=True, no_purge=False, show=True)"
     ],
     "language": "python",
     "metadata": {},
     "outputs": [],
     "prompt_number": 13
    },
    {
     "cell_type": "code",
     "collapsed": false,
     "input": [
      "PFM_layer.get_properties()"
     ],
     "language": "python",
     "metadata": {},
     "outputs": [
      {
       "metadata": {},
       "output_type": "pyout",
       "prompt_number": 14,
       "text": [
        "{'altcolumn': '-1',\n",
        " 'alttype': 'SeaLevel',\n",
        " 'altunit': 'Meters',\n",
        " 'astronomical': 'False',\n",
        " 'autoupdate': 'False',\n",
        " 'beginrange': '12/31/9999 11:59:59 PM',\n",
        " 'cartesiancustomscale': '1',\n",
        " 'cartesianscale': 'Meters',\n",
        " 'class': ['SpreadSheetLayer'],\n",
        " 'colormapcolumn': '4',\n",
        " 'colorvalue': 'ARGBColor:255:255:255:255',\n",
        " 'coordinatestype': 'Spherical',\n",
        " 'datasourceurl': '',\n",
        " 'decay': '16',\n",
        " 'dynamicdata': 'False',\n",
        " 'enabled': 'True',\n",
        " 'enddatecolumn': '-1',\n",
        " 'endrange': '1/1/0001 12:00:00 AM',\n",
        " 'endtime': '12/31/9999 11:59:59 PM',\n",
        " 'fadespan': '00:00:00',\n",
        " 'fadetype': 'None',\n",
        " 'geometrycolumn': '-1',\n",
        " 'hyperlinkcolumn': '-1',\n",
        " 'hyperlinkformat': '',\n",
        " 'latcolumn': '0',\n",
        " 'lngcolumn': '1',\n",
        " 'markercolumn': '-1',\n",
        " 'markerindex': '0',\n",
        " 'markermix': 'Same_For_All',\n",
        " 'markerscale': 'Screen',\n",
        " 'name': 'ParkForestMeteorites',\n",
        " 'namecolumn': '0',\n",
        " 'opacity': '1',\n",
        " 'plottype': 'Gaussian',\n",
        " 'pointscaletype': 'Constant',\n",
        " 'raunits': 'Degrees',\n",
        " 'scalefactor': '8',\n",
        " 'showfarside': 'True',\n",
        " 'sizecolumn': '-1',\n",
        " 'startdatecolumn': '-1',\n",
        " 'starttime': '1/1/0001 12:00:00 AM',\n",
        " 'timeseries': 'False',\n",
        " 'version': '13',\n",
        " 'xaxiscolumn': '-1',\n",
        " 'xaxisreverse': 'False',\n",
        " 'yaxiscolumn': '-1',\n",
        " 'yaxisreverse': 'False',\n",
        " 'zaxiscolumn': '-1',\n",
        " 'zaxisreverse': 'False'}"
       ]
      }
     ],
     "prompt_number": 14
    },
    {
     "cell_type": "code",
     "collapsed": false,
     "input": [],
     "language": "python",
     "metadata": {},
     "outputs": []
    }
   ],
   "metadata": {}
  }
 ]
}